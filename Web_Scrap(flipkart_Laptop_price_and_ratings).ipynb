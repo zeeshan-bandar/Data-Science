{
  "nbformat": 4,
  "nbformat_minor": 0,
  "metadata": {
    "colab": {
      "name": "Web Scrap(flipkart Laptop price and ratings).ipynb",
      "provenance": [],
      "authorship_tag": "ABX9TyNIQev6oCs7x3q4sOQXrWRs",
      "include_colab_link": true
    },
    "kernelspec": {
      "name": "python3",
      "display_name": "Python 3"
    },
    "language_info": {
      "name": "python"
    }
  },
  "cells": [
    {
      "cell_type": "markdown",
      "metadata": {
        "id": "view-in-github",
        "colab_type": "text"
      },
      "source": [
        "<a href=\"https://colab.research.google.com/github/zeeshan-bandar/Data-Science/blob/main/Web_Scrap(flipkart_Laptop_price_and_ratings).ipynb\" target=\"_parent\"><img src=\"https://colab.research.google.com/assets/colab-badge.svg\" alt=\"Open In Colab\"/></a>"
      ]
    },
    {
      "cell_type": "code",
      "metadata": {
        "id": "fu_GsVJ3Rw1W"
      },
      "source": [
        "from bs4 import BeautifulSoup as bs\n",
        "import requests\n",
        "import pandas as pd"
      ],
      "execution_count": 68,
      "outputs": []
    },
    {
      "cell_type": "code",
      "metadata": {
        "id": "4rH5YG99SF6V"
      },
      "source": [
        "link=\"https://www.flipkart.com/search?q=laptops&otracker=search&otracker1=search&marketplace=FLIPKART&as-show=on&as=off\""
      ],
      "execution_count": 52,
      "outputs": []
    },
    {
      "cell_type": "code",
      "metadata": {
        "id": "9nHUHyCxSL6q"
      },
      "source": [
        "page=requests.get(link)"
      ],
      "execution_count": 53,
      "outputs": []
    },
    {
      "cell_type": "code",
      "metadata": {
        "id": "7NraL2lBSfSa"
      },
      "source": [
        "soup=bs(page.content,'html.parser')"
      ],
      "execution_count": 54,
      "outputs": []
    },
    {
      "cell_type": "code",
      "metadata": {
        "id": "4qG3B4iQS5Jt"
      },
      "source": [
        "products=[]\n",
        "prices=[]\n",
        "for a in soup.find_all('div', attrs={'class': '_3pLy-c row'}):\n",
        "  product=a.find('div', attrs={'class': '_4rR01T'})\n",
        "  price=a.find('div' ,attrs={'class': '_30jeq3'})\n",
        "  products.append(product.text)\n",
        "  prices.append(price.text)"
      ],
      "execution_count": 71,
      "outputs": []
    },
    {
      "cell_type": "code",
      "metadata": {
        "id": "RgpaMUNNT38Y"
      },
      "source": [
        "df = pd.DataFrame({'Product Name':products,'Price':prices}) \n",
        "df.to_excel('/content/product.xlsx', index=False, encoding='utf-8')"
      ],
      "execution_count": 69,
      "outputs": []
    }
  ]
}